{
  "nbformat": 4,
  "nbformat_minor": 0,
  "metadata": {
    "colab": {
      "provenance": [],
      "authorship_tag": "ABX9TyMdXPgEK2q0FSKmYMUOtCIJ",
      "include_colab_link": true
    },
    "kernelspec": {
      "name": "python3",
      "display_name": "Python 3"
    },
    "language_info": {
      "name": "python"
    }
  },
  "cells": [
    {
      "cell_type": "markdown",
      "metadata": {
        "id": "view-in-github",
        "colab_type": "text"
      },
      "source": [
        "<a href=\"https://colab.research.google.com/github/2303A52058/23CSBTB39-40/blob/main/sample.ipynb\" target=\"_parent\"><img src=\"https://colab.research.google.com/assets/colab-badge.svg\" alt=\"Open In Colab\"/></a>"
      ]
    },
    {
      "cell_type": "code",
      "source": [
        "import numpy as np\n",
        "# Create a 1D NumPy array\n",
        "array1 = np.array([1, 2, 3, 4, 5])\n",
        "print(\"1D Array:\")\n",
        "print(array1)\n",
        "\n",
        "# Create a 2D NumPy array (matrix)\n",
        "array2 = np.array([[1, 2, 3], [4, 5, 6]])\n",
        "print(\"\\n2D Array:\")\n",
        "print(array2)\n",
        "\n",
        "# Basic operations\n",
        "# Element-wise addition\n",
        "array_sum = array1 + 10\n",
        "print(\"\\nElement-wise addition (array1 + 10):\")\n",
        "print(array_sum)\n",
        "\n",
        "# Element-wise multiplication\n",
        "array_product = array1 * 2\n",
        "print(\"\\nElement-wise multiplication (array1 * 2):\")\n",
        "print(array_product)\n",
        "\n",
        "# Matrix multiplication\n",
        "matrix_product = np.dot(array2, array2.T)  # array2.T is the transpose of array2\n",
        "print(\"\\nMatrix multiplication (array2 . array2.T):\")\n",
        "print(matrix_product)\n",
        "\n",
        "# Statistical operations\n",
        "mean_value = np.mean(array1)\n",
        "std_deviation = np.std(array1)\n",
        "print(f\"\\nMean of array1: {mean_value}\")\n",
        "print(f\"Standard deviation of array1: {std_deviation}\")\n",
        "\n",
        "# Create an array of zeros\n",
        "zeros_array = np.zeros((3, 3))\n",
        "print(\"\\nArray of zeros:\")\n",
        "print(zeros_array)\n",
        "\n",
        "# Create an array of ones\n",
        "ones_array = np.ones((2, 4))\n",
        "print(\"\\nArray of ones:\")\n",
        "print(ones_array)\n",
        "\n",
        "# Reshape an array\n",
        "reshaped_array = np.arange(12).reshape((3, 4))\n",
        "print(\"\\nReshaped array (3x4):\")\n",
        "print(reshaped_array)\n",
        "\n",
        "\n",
        "\n",
        "\n",
        "\n",
        "\n",
        "\n",
        "\n",
        "\n",
        "\n"
      ],
      "metadata": {
        "colab": {
          "base_uri": "https://localhost:8080/"
        },
        "id": "CEHDGLej_qyl",
        "outputId": "94c7a3b8-a768-4da3-b2ce-654ccc1dd1e4"
      },
      "execution_count": 2,
      "outputs": [
        {
          "output_type": "stream",
          "name": "stdout",
          "text": [
            "1D Array:\n",
            "[1 2 3 4 5]\n",
            "\n",
            "2D Array:\n",
            "[[1 2 3]\n",
            " [4 5 6]]\n",
            "\n",
            "Element-wise addition (array1 + 10):\n",
            "[11 12 13 14 15]\n",
            "\n",
            "Element-wise multiplication (array1 * 2):\n",
            "[ 2  4  6  8 10]\n",
            "\n",
            "Matrix multiplication (array2 . array2.T):\n",
            "[[14 32]\n",
            " [32 77]]\n",
            "\n",
            "Mean of array1: 3.0\n",
            "Standard deviation of array1: 1.4142135623730951\n",
            "\n",
            "Array of zeros:\n",
            "[[0. 0. 0.]\n",
            " [0. 0. 0.]\n",
            " [0. 0. 0.]]\n",
            "\n",
            "Array of ones:\n",
            "[[1. 1. 1. 1.]\n",
            " [1. 1. 1. 1.]]\n",
            "\n",
            "Reshaped array (3x4):\n",
            "[[ 0  1  2  3]\n",
            " [ 4  5  6  7]\n",
            " [ 8  9 10 11]]\n"
          ]
        }
      ]
    },
    {
      "cell_type": "markdown",
      "source": [],
      "metadata": {
        "id": "YwGmVSg3_tnL"
      }
    },
    {
      "cell_type": "code",
      "execution_count": null,
      "metadata": {
        "id": "k6cmIND__jM1"
      },
      "outputs": [],
      "source": []
    }
  ]
}